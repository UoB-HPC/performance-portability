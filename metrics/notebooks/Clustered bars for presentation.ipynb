{
 "cells": [
  {
   "cell_type": "code",
   "execution_count": 1,
   "metadata": {},
   "outputs": [],
   "source": [
    "from matplotlib import pylab as plt\n",
    "import numpy as np\n",
    "%matplotlib inline"
   ]
  },
  {
   "cell_type": "code",
   "execution_count": 2,
   "metadata": {},
   "outputs": [
    {
     "name": "stdout",
     "output_type": "stream",
     "text": [
      "-0.5\n",
      "-0.42857142857142855\n",
      "-0.35714285714285715\n",
      "-0.2857142857142857\n",
      "-0.21428571428571427\n",
      "-0.14285714285714285\n",
      "-0.07142857142857142\n",
      "0.0\n",
      "0.07142857142857142\n",
      "0.14285714285714285\n",
      "0.21428571428571427\n",
      "0.2857142857142857\n",
      "0.35714285714285715\n",
      "0.42857142857142855\n",
      "0.5\n"
     ]
    }
   ],
   "source": [
    "from numpy.random import default_rng\n",
    "rng = default_rng(1234)\n",
    "samples_sets = []\n",
    "nv = 15\n",
    "for g in range(nv):\n",
    "    scale =  (g-nv/2.0+0.5)/(nv-1)\n",
    "    print(scale)\n",
    "    samples = rng.standard_normal(1000)+scale\n",
    "    samples_sets.append(sorted(filter(lambda x: x >= 0 and x <= 1.0, samples)))"
   ]
  },
  {
   "cell_type": "code",
   "execution_count": 3,
   "metadata": {},
   "outputs": [
    {
     "data": {
      "image/png": "[encoded data removed]",
      "text/plain": [
       "<Figure size 360x288 with 1 Axes>"
      ]
     },
     "metadata": {
      "needs_background": "light"
     },
     "output_type": "display_data"
    }
   ],
   "source": [
    "fig = plt.figure(figsize=(5, 4))\n",
    "ax = fig.add_subplot(1,1,1)\n",
    "bins = np.arange(0,1,0.2)\n",
    "ax.hist(samples_sets, bins)\n",
    "plt.tight_layout()\n",
    "plt.savefig(\"bin4-15app.png\",dpi=300)"
   ]
  },
  {
   "cell_type": "code",
   "execution_count": null,
   "metadata": {},
   "outputs": [],
   "source": []
  }
 ],
 "metadata": {
  "kernelspec": {
   "display_name": "Python 3",
   "language": "python",
   "name": "python3"
  },
  "language_info": {
   "codemirror_mode": {
    "name": "ipython",
    "version": 3
   },
   "file_extension": ".py",
   "mimetype": "text/x-python",
   "name": "python",
   "nbconvert_exporter": "python",
   "pygments_lexer": "ipython3",
   "version": "3.7.1"
  }
 },
 "nbformat": 4,
 "nbformat_minor": 4
}
