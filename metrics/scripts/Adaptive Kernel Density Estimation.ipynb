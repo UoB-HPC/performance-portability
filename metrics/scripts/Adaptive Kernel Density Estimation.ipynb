{
 "cells": [
  {
   "cell_type": "code",
   "execution_count": 1,
   "metadata": {},
   "outputs": [],
   "source": [
    "import numpy"
   ]
  },
  {
   "cell_type": "code",
   "execution_count": 2,
   "metadata": {},
   "outputs": [
    {
     "name": "stderr",
     "output_type": "stream",
     "text": [
      "/nfs/home/jsewall/local/lib/python3.7/site-packages/pandas/compat/__init__.py:120: UserWarning: Could not import the lzma module. Your installed Python is incomplete. Attempting to use lzma compression will result in a RuntimeError.\n",
      "  warnings.warn(msg)\n"
     ]
    }
   ],
   "source": [
    "import pp_vis"
   ]
  },
  {
   "cell_type": "code",
   "execution_count": 3,
   "metadata": {},
   "outputs": [],
   "source": [
    "%matplotlib inline"
   ]
  },
  {
   "cell_type": "code",
   "execution_count": 4,
   "metadata": {},
   "outputs": [],
   "source": [
    "import matplotlib.pyplot as plt\n",
    "plt.rcParams.update({\n",
    "    \"font.family\": \"serif\",  # use serif/main font for text elements\n",
    "    \"text.usetex\": False,     # use inline math for ticks\n",
    "    \"pgf.rcfonts\": False,    # don't setup fonts from rc parameters\n",
    "})"
   ]
  },
  {
   "cell_type": "code",
   "execution_count": 5,
   "metadata": {},
   "outputs": [],
   "source": [
    "from numpy.random import default_rng\n",
    "rng = default_rng(1234)\n",
    "samples = numpy.append(rng.standard_normal(25)-0.5, rng.standard_normal(25)+0.5)\n",
    "samples = sorted(filter(lambda x: x >= 0 and x <= 1.0, samples))"
   ]
  },
  {
   "cell_type": "code",
   "execution_count": 6,
   "metadata": {},
   "outputs": [
    {
     "data": {
      "image/png": "[encoded data removed]",
      "text/plain": [
       "<Figure size 360x252 with 1 Axes>"
      ]
     },
     "metadata": {
      "needs_background": "light"
     },
     "output_type": "display_data"
    }
   ],
   "source": [
    "dpi=1\n",
    "fig = plt.figure(figsize=(5.0*dpi,3.5*dpi))\n",
    "ax = fig.add_subplot(1,1,1)\n",
    "ax.bar(samples, 1.0, 0.005)\n",
    "ax.set_yticks([])\n",
    "ax.set_xlim([0,1])\n",
    "plt.savefig(\"samples.png\", dpi=300)"
   ]
  },
  {
   "cell_type": "code",
   "execution_count": 7,
   "metadata": {
    "scrolled": false
   },
   "outputs": [
    {
     "ename": "NameError",
     "evalue": "name 'pp_util' is not defined",
     "output_type": "error",
     "traceback": [
      "\u001b[0;31m---------------------------------------------------------------------------\u001b[0m",
      "\u001b[0;31mNameError\u001b[0m                                 Traceback (most recent call last)",
      "\u001b[0;32m<ipython-input-7-765f9bedae70>\u001b[0m in \u001b[0;36m<module>\u001b[0;34m\u001b[0m\n\u001b[1;32m      1\u001b[0m \u001b[0ma\u001b[0m\u001b[0;34m,\u001b[0m\u001b[0mb\u001b[0m \u001b[0;34m=\u001b[0m \u001b[0;34m(\u001b[0m\u001b[0;36m1\u001b[0m\u001b[0;34m,\u001b[0m\u001b[0;36m2\u001b[0m\u001b[0;34m)\u001b[0m\u001b[0;34m\u001b[0m\u001b[0;34m\u001b[0m\u001b[0m\n\u001b[1;32m      2\u001b[0m \u001b[0mkx\u001b[0m \u001b[0;34m=\u001b[0m \u001b[0mnumpy\u001b[0m\u001b[0;34m.\u001b[0m\u001b[0mlinspace\u001b[0m\u001b[0;34m(\u001b[0m\u001b[0ma\u001b[0m\u001b[0;34m,\u001b[0m \u001b[0mb\u001b[0m\u001b[0;34m,\u001b[0m \u001b[0;36m100\u001b[0m\u001b[0;34m)\u001b[0m\u001b[0;34m\u001b[0m\u001b[0;34m\u001b[0m\u001b[0m\n\u001b[0;32m----> 3\u001b[0;31m \u001b[0mscaling\u001b[0m \u001b[0;34m=\u001b[0m \u001b[0mpp_util\u001b[0m\u001b[0;34m.\u001b[0m\u001b[0mgaussian_scaling\u001b[0m\u001b[0;34m(\u001b[0m\u001b[0ma\u001b[0m\u001b[0;34m,\u001b[0m\u001b[0mb\u001b[0m\u001b[0;34m)\u001b[0m\u001b[0;34m\u001b[0m\u001b[0;34m\u001b[0m\u001b[0m\n\u001b[0m\u001b[1;32m      4\u001b[0m \u001b[0mky\u001b[0m \u001b[0;34m=\u001b[0m \u001b[0mscaling\u001b[0m\u001b[0;34m*\u001b[0m\u001b[0mpp_util\u001b[0m\u001b[0;34m.\u001b[0m\u001b[0mgaussian\u001b[0m\u001b[0;34m(\u001b[0m\u001b[0mkx\u001b[0m\u001b[0;34m)\u001b[0m\u001b[0;34m\u001b[0m\u001b[0;34m\u001b[0m\u001b[0m\n\u001b[1;32m      5\u001b[0m \u001b[0mplt\u001b[0m\u001b[0;34m.\u001b[0m\u001b[0mplot\u001b[0m\u001b[0;34m(\u001b[0m\u001b[0mkx\u001b[0m\u001b[0;34m,\u001b[0m\u001b[0mky\u001b[0m\u001b[0;34m)\u001b[0m\u001b[0;34m\u001b[0m\u001b[0;34m\u001b[0m\u001b[0m\n",
      "\u001b[0;31mNameError\u001b[0m: name 'pp_util' is not defined"
     ]
    }
   ],
   "source": [
    "\n",
    "a,b = (1,2)\n",
    "kx = numpy.linspace(a, b, 100)\n",
    "scaling = pp_util.gaussian_scaling(a,b)\n",
    "ky = scaling*pp_util.gaussian(kx)\n",
    "plt.plot(kx,ky)\n",
    "from scipy.integrate import simps\n",
    "\n",
    "print(scaling, simps(ky, kx))"
   ]
  },
  {
   "cell_type": "code",
   "execution_count": null,
   "metadata": {},
   "outputs": [],
   "source": [
    "def bw_estimate(samples):\n",
    "    sigma = numpy.std(samples)\n",
    "    return ((4*sigma**5.0)/(3.0*len(samples)))**(1.0/5.0)"
   ]
  },
  {
   "cell_type": "code",
   "execution_count": null,
   "metadata": {},
   "outputs": [],
   "source": [
    "def kde(x, samples, hfunc, kernel=pp_util.gaussian, integral=False, boundary_fix=True):\n",
    "    f_y = numpy.zeros(len(x))\n",
    "    lim = (x[0], x[-1])\n",
    "    for sx in samples:\n",
    "        assert sx >= lim[0] and sx <= lim[1]\n",
    "            \n",
    "        loc_h = hfunc(sx)\n",
    "        if boundary_fix:\n",
    "             scaling = gaussian_scaling((lim[0]-sx)/loc_h,(lim[1]-sx)/loc_h)\n",
    "        else:\n",
    "            scaling = 1.0 \n",
    "        if not integral:\n",
    "            f_y += 1.0/loc_h * scaling * kernel((x-sx)/loc_h)\n",
    "        else:\n",
    "            f_y +=  scaling * ( kernel((x-sx)/loc_h)-kernel((lim[0]-sx)/loc_h))\n",
    "    res = f_y/len(samples)\n",
    "    return res"
   ]
  },
  {
   "cell_type": "code",
   "execution_count": null,
   "metadata": {},
   "outputs": [],
   "source": [
    "def kde_parts(x, samples, hfunc, kernel=pp_util.gaussian, integral=False, boundary_fix=True):\n",
    "    f_y = numpy.zeros(len(x))\n",
    "    lim = (x[0], x[-1])\n",
    "    res = []\n",
    "    for sx in samples:\n",
    "        assert sx >= lim[0] and sx <= lim[1]\n",
    "            \n",
    "        loc_h = hfunc(sx)\n",
    "        if boundary_fix:\n",
    "             scaling = gaussian_scaling((lim[0]-sx)/loc_h,(lim[1]-sx)/loc_h)\n",
    "        else:\n",
    "            scaling = 1.0 \n",
    "       \n",
    "        res.append((1.0/loc_h * scaling * kernel((x-sx)/loc_h)))\n",
    "    return res"
   ]
  },
  {
   "cell_type": "code",
   "execution_count": null,
   "metadata": {
    "scrolled": false
   },
   "outputs": [],
   "source": [
    "dpi=1\n",
    "fig = plt.figure(figsize=(5.0*dpi,3.5*dpi))\n",
    "ax = fig.add_subplot(1,1,1)\n",
    "\n",
    "ax.set_xlim([0,1])\n",
    "bw0 = 0.03 \n",
    "x = numpy.linspace(0, 1, 1000)\n",
    "f_ys = kde_parts(x, samples, lambda _: bw0, boundary_fix=False)\n",
    "for s in samples:\n",
    "    ax.axvline(s, 0.005)\n",
    "for i in f_ys:\n",
    "    ax.plot(x, i, color='red')\n",
    "ax.set_ylim(bottom=0)\n",
    "ax.set_ylabel(\"Density\")\n",
    "plt.savefig(\"samples-kern-bw-narrow.png\", dpi=300)"
   ]
  },
  {
   "cell_type": "code",
   "execution_count": null,
   "metadata": {
    "scrolled": true
   },
   "outputs": [],
   "source": [
    "dpi=1\n",
    "fig = plt.figure(figsize=(5.0*dpi,3.5*dpi))\n",
    "ax = fig.add_subplot(1,1,1)\n",
    "ax.set_xlim([0,1])\n",
    "bw0 = 0.2 \n",
    "x = numpy.linspace(0, 1, 1000)\n",
    "f_ys = kde_parts(x, samples, lambda _: bw0, boundary_fix=False)\n",
    "for s in samples:\n",
    "    ax.axvline(s,0.005)\n",
    "for i in f_ys:\n",
    "    ax.plot(x, i, color='red')\n",
    "ax.set_ylim(bottom=0)\n",
    "ax.set_ylabel(\"Density\")\n",
    "plt.savefig(\"samples-kern-bw-wide.png\", dpi=300)"
   ]
  },
  {
   "cell_type": "code",
   "execution_count": null,
   "metadata": {},
   "outputs": [],
   "source": [
    "import numpy\n",
    "from scipy.integrate import simps"
   ]
  },
  {
   "cell_type": "code",
   "execution_count": null,
   "metadata": {
    "scrolled": false
   },
   "outputs": [],
   "source": [
    "bw0 = 0.03\n",
    "x = numpy.linspace(0, 1, 1000)\n",
    "dpi=1\n",
    "fig = plt.figure(figsize=(5.0*dpi,3.5*dpi))\n",
    "ax = fig.add_subplot(1,1,1)\n",
    "ax.set_xlim([0,1])\n",
    "f_y = kde(x, samples, lambda _: bw0, boundary_fix=False)\n",
    "for s in samples:\n",
    "    ax.axvline(s,0.005)\n",
    "ax.plot(x, f_y, color='red')\n",
    "ax.set_ylim(bottom=0)\n",
    "ax.set_ylabel(\"Density\")\n",
    "plt.savefig(\"samples-kern-bw-narrow-recon.png\", dpi=300)\n",
    "print(simps(f_y,x))"
   ]
  },
  {
   "cell_type": "code",
   "execution_count": null,
   "metadata": {
    "scrolled": false
   },
   "outputs": [],
   "source": [
    "bw0 = 0.2\n",
    "x = numpy.linspace(0, 1, 1000)\n",
    "dpi=1\n",
    "fig = plt.figure(figsize=(5.0*dpi,3.5*dpi))\n",
    "ax = fig.add_subplot(1,1,1)\n",
    "ax.set_xlim([0,1])\n",
    "f_y = kde(x, samples, lambda _: bw0, boundary_fix=False)\n",
    "for s in samples:\n",
    "    ax.axvline(s,0.005)\n",
    "ax.plot(x, f_y, color='red')\n",
    "ax.set_ylim(bottom=0)\n",
    "ax.set_ylabel(\"Density\")\n",
    "plt.savefig(\"samples-kern-bw-wide-recon.png\", dpi=300)\n",
    "print(simps(f_y,x))"
   ]
  },
  {
   "cell_type": "code",
   "execution_count": null,
   "metadata": {},
   "outputs": [],
   "source": [
    "import scipy.stats\n",
    "f_y_scipy = scipy.stats.gaussian_kde(samples)\n",
    "plt.plot(x, f_y_scipy(x))\n",
    "print(simps(f_y_scipy(x),x))"
   ]
  },
  {
   "cell_type": "code",
   "execution_count": null,
   "metadata": {},
   "outputs": [],
   "source": [
    "import pp_util\n",
    "import importlib\n",
    "importlib.reload(pp_util)\n",
    "import pathlib"
   ]
  },
  {
   "cell_type": "code",
   "execution_count": null,
   "metadata": {
    "scrolled": false
   },
   "outputs": [],
   "source": [
    "fig=plt.figure(figsize=(5.0,3.5))\n",
    "test_akde = pp_util.akde(numpy.linspace(0,1,500), samples, 0.075)\n",
    "fys = test_akde.pdf_series(10)\n",
    "cm = plt.get_cmap(\"plasma\")\n",
    "ax = fig.add_subplot(1,1,1)\n",
    "ax.hist(samples,density=True, color=\"#e0e0e0\", alpha=1.0, rwidth=1.0)\n",
    "#ax2 = plt.twinx()\n",
    "ax.set_ylabel(\"Density\")\n",
    "ax.set_xlabel(\"Efficiency\")\n",
    "ax.set_xlim([0,1])\n",
    "for i, p in enumerate(fys):\n",
    "    if 1:#i == len(fs)-1:\n",
    "        ax.plot(test_akde.x, p, label=f\"$f_{i}$\", c=cm(i/10.0))\n",
    "ax.legend(loc='best',ncol=2)\n",
    "plt.tight_layout()\n",
    "plt.savefig(\"../../images/kde-progression.pdf\", bbox_inches=\"tight\")"
   ]
  },
  {
   "cell_type": "code",
   "execution_count": null,
   "metadata": {
    "scrolled": false
   },
   "outputs": [],
   "source": [
    "fig=plt.figure(figsize=(5.0,3.5))\n",
    "test_akde = pp_util.akde(numpy.linspace(0,1,500), samples, 0.075)\n",
    "test_akde.clip = False\n",
    "fys = test_akde.pdf_series(10)\n",
    "cm = plt.get_cmap(\"plasma\")\n",
    "ax = fig.add_subplot(1,1,1)\n",
    "#ax.hist(samples,density=True, color=\"#e0e0e0\", alpha=1.0, rwidth=1.0)\n",
    "for s in samples:\n",
    "    ax.axvline(s,0.005)\n",
    "ax.set_ylabel(\"Density\")\n",
    "ax.set_xlim([0,1])\n",
    "for i, p in enumerate(fys):\n",
    "    if 1:#i == len(fs)-1:\n",
    "        ax.plot(test_akde.x, p, label=f\"$f_{i}$\", c=cm(i/10.0))\n",
    "ax.legend(loc='best',ncol=2)\n",
    "plt.tight_layout()\n",
    "plt.savefig(\"akde-progression.png\", bbox_inches=\"tight\", dpi=300)"
   ]
  },
  {
   "cell_type": "code",
   "execution_count": null,
   "metadata": {
    "scrolled": false
   },
   "outputs": [],
   "source": [
    "fig=plt.figure(figsize=(5.0,3.5))\n",
    "test_akde = pp_util.akde(numpy.linspace(0,1,500), samples, 0.075)\n",
    "fys = test_akde.pdf_series(10)\n",
    "ax = fig.add_subplot(1,1,1)\n",
    "#ax.hist(samples,density=True, color=\"#e0e0e0\", alpha=1.0, rwidth=1.0)\n",
    "for s in samples:\n",
    "    ax.axvline(s,0.005)\n",
    "ax.set_ylabel(\"Density\")\n",
    "ax.set_xlim([0,1])\n",
    "for i, p in enumerate(fys):\n",
    "    if i == len(fys)-1:\n",
    "        ax.plot(test_akde.x, p,  c='red')\n",
    "plt.tight_layout()\n",
    "plt.savefig(\"akde-example-clipped.png\", bbox_inches=\"tight\", dpi=300)"
   ]
  },
  {
   "cell_type": "code",
   "execution_count": null,
   "metadata": {
    "scrolled": false
   },
   "outputs": [],
   "source": [
    "fig=plt.figure(figsize=(5.0,3.5))\n",
    "test_akde = pp_util.akde(numpy.linspace(0,1,500), samples, 0.075)\n",
    "test_akde.clip = False\n",
    "fys = test_akde.pdf_series(10)\n",
    "ax = fig.add_subplot(1,1,1)\n",
    "#ax.hist(samples,density=True, color=\"#e0e0e0\", alpha=1.0, rwidth=1.0)\n",
    "for s in samples:\n",
    "    ax.axvline(s,0.005)\n",
    "ax.set_ylabel(\"Density\")\n",
    "ax.set_xlim([0,1])\n",
    "for i, p in enumerate(fys):\n",
    "    if i == len(fys)-1:\n",
    "        ax.plot(test_akde.x, p,  c='red')\n",
    "plt.tight_layout()\n",
    "plt.savefig(\"akde-example-noclip.png\", bbox_inches=\"tight\", dpi=300)"
   ]
  },
  {
   "cell_type": "code",
   "execution_count": null,
   "metadata": {
    "scrolled": false
   },
   "outputs": [],
   "source": [
    "fig=plt.figure(figsize=(5.0,3.5))\n",
    "test_akde = pp_util.akde(numpy.linspace(-0.5,1.5,500), samples, 0.075)\n",
    "test_akde.clip = False\n",
    "fys = test_akde.pdf_series(10)\n",
    "ax = fig.add_subplot(1,1,1)\n",
    "#ax.hist(samples,density=True, color=\"#e0e0e0\", alpha=1.0, rwidth=1.0)\n",
    "for s in samples:\n",
    "    ax.axvline(s,0.005)\n",
    "ax.set_ylabel(\"Density\")\n",
    "ax.set_xlim([-0.25,1.25])\n",
    "for i, p in enumerate(fys):\n",
    "    if i == len(fys)-1:\n",
    "        ax.plot(test_akde.x, p,  c='red')\n",
    "plt.tight_layout()\n",
    "plt.savefig(\"akde-example-noclip-ext.png\", bbox_inches=\"tight\", dpi=300)"
   ]
  },
  {
   "cell_type": "code",
   "execution_count": null,
   "metadata": {
    "scrolled": true
   },
   "outputs": [],
   "source": [
    "cdf = test_akde.cdf()\n",
    "plt.plot(test_akde.x,cdf)"
   ]
  },
  {
   "cell_type": "code",
   "execution_count": null,
   "metadata": {},
   "outputs": [],
   "source": [
    "import os\n",
    "qual_colormap = plt.get_cmap(\"tab10\")\n",
    "plat_colors=[(qual_colormap(i),name) for i,name in enumerate([\"OpenMP\", \"Kokkos\", \"CUDA\", \"OpenACC\", \"OpenCL\"])]\n",
    "csv_root = \"../data/\""
   ]
  },
  {
   "cell_type": "code",
   "execution_count": null,
   "metadata": {
    "scrolled": true
   },
   "outputs": [],
   "source": [
    "fig = plt.figure(figsize=(10, 3))\n",
    "handles = {}\n",
    "for i, fi in enumerate([\"babelstream.csv\", \"cloverleaf.csv\", \"neutral.csv\"]):\n",
    "    ax = fig.add_subplot(1,3,i+1)\n",
    "    effs = pp_util.get_effs(os.path.join(csv_root,fi), i==0)\n",
    "    pp_util.plot_pdf(ax, effs, handles, plat_colors)\n",
    "    ax.set_title(pathlib.Path(fi).stem,pad=10)\n",
    "handles_names, handles_items = zip(*handles.items())\n",
    "fig.legend(handles_items, handles_names, loc='upper left', ncol=5, handlelength=1.0, bbox_to_anchor=(0.25,0.0))\n",
    "plt.tight_layout(pad=0.4,w_pad=0.5, h_pad=1.0)\n",
    "fig.savefig(f\"../../images/akde_apps.png\", bbox_inches=\"tight\", dpi=300) \n"
   ]
  },
  {
   "cell_type": "code",
   "execution_count": null,
   "metadata": {
    "scrolled": true
   },
   "outputs": [],
   "source": [
    "fig = plt.figure(figsize=(10, 5))\n",
    "handles = {}\n",
    "for i, fi in enumerate([\"babelstream.csv\", \"cloverleaf.csv\", \"neutral.csv\"]):\n",
    "    ax = fig.add_subplot(1,3,i+1)\n",
    "    effs = pp_util.get_effs(os.path.join(csv_root,fi), i==0)\n",
    "    pp_util.plot_pdf(ax, effs, handles, plat_colors, symlog=False)\n",
    "    ax.set_title(pathlib.Path(fi).stem,pad=10)\n",
    "handles_names, handles_items = zip(*handles.items())\n",
    "fig.legend(handles_items, handles_names, loc='upper left', ncol=5, handlelength=1.0, bbox_to_anchor=(0.25,0.0))\n",
    "plt.tight_layout(pad=0.4,w_pad=0.5, h_pad=1.0)\n",
    "fig.savefig(f\"../../images/akde_apps_linear.png\", bbox_inches=\"tight\",dpi=300) \n"
   ]
  },
  {
   "cell_type": "code",
   "execution_count": null,
   "metadata": {
    "scrolled": false
   },
   "outputs": [],
   "source": [
    "fig = plt.figure(figsize=(10, 8))\n",
    "handles = {}\n",
    "for i, fi in enumerate([\"babelstream.csv\", \"cloverleaf.csv\", \"minifmm.csv\"]):\n",
    "    ax = fig.add_subplot(2,3,i+1)\n",
    "    effs = pp_util.get_effs(os.path.join(csv_root,fi), i==0)\n",
    "    pp_util.plot_bins(ax, effs, handles, plat_colors)\n",
    "    ax.set_title(pathlib.Path(fi).stem,pad=10)\n",
    "handles_names, handles_items = zip(*handles.items())\n",
    "fig.legend(handles_items, handles_names, loc='lower right', bbox_to_anchor=(0.90,0.25))\n",
    "plt.tight_layout(pad=0.4,w_pad=0.5, h_pad=1.0)\n",
    "#fig.savefig(f\"../../images/akde_apps.pdf\", bbox_inches=\"tight\") \n",
    "#fig.savefig(f\"../../images/akde_apps.pgf\", bbox_inches=\"tight\") \n"
   ]
  },
  {
   "cell_type": "code",
   "execution_count": null,
   "metadata": {
    "scrolled": true
   },
   "outputs": [],
   "source": [
    "fig = plt.figure(figsize=(6, 5))\n",
    "for i, fi in enumerate([\"synthetic.csv\"]):\n",
    "    ax = fig.add_subplot(1,1,i+1)\n",
    "    effs= pp_util.read_effs(os.path.join(csv_root, fi), skip_plats=True)\n",
    "    pp_util.plot_pdf(ax, effs, handles, symlog=False)\n",
    "fig.savefig(f\"../../images/akde_synthetic_linear.png\", dpi=300, bbox_inches='tight') "
   ]
  },
  {
   "cell_type": "code",
   "execution_count": null,
   "metadata": {
    "scrolled": true
   },
   "outputs": [],
   "source": [
    "fig = plt.figure(figsize=(6, 5))\n",
    "for i, fi in enumerate([\"synthetic.csv\"]):\n",
    "    ax = fig.add_subplot(1,1,i+1)\n",
    "    effs = pp_util.read_effs(os.path.join(csv_root, fi), skip_plats=True)\n",
    "    pp_util.plot_pdf(ax, effs, handles, symlog=True)\n",
    "fig.savefig(f\"../../images/akde_synthetic_linear.png\", dpi=300, bbox_inches='tight') "
   ]
  },
  {
   "cell_type": "code",
   "execution_count": null,
   "metadata": {
    "scrolled": false
   },
   "outputs": [],
   "source": [
    "fig = plt.figure(figsize=(6, 5))\n",
    "for i, fi in enumerate([\"synthetic.csv\"]):\n",
    "    ax = fig.add_subplot(1,1,i+1)\n",
    "    effs = pp_util.read_effs(os.path.join(csv_root, fi), skip_plats=True)\n",
    "    pp_util.plot_bins(ax, effs, handles)\n",
    "fig.savefig(f\"../../images/synthetic_bin.png\", dpi=300, bbox_inches='tight') "
   ]
  },
  {
   "cell_type": "markdown",
   "metadata": {},
   "source": [
    "$$\\mathrm{erf} x = \\frac{2}{\\pi}\\int_0^x e^{-t^2} dt$$"
   ]
  },
  {
   "cell_type": "markdown",
   "metadata": {},
   "source": [
    "$$ \\Phi(x) = \\frac{1}{\\sqrt{2\\pi}}\\int_{-\\infty}^x e^{-\\frac{1}{2}t^2}dt =  \\frac{1}{2} \\left(1+\\mathrm{erf} \\left(\\frac{x}{\\sqrt{2}}\\right)\\right) $$"
   ]
  },
  {
   "cell_type": "markdown",
   "metadata": {},
   "source": [
    "$$ Y \\int_{a}^{b} \\frac{1}{h(s_i)\\sqrt{2\\pi}} e^{-\\frac{1}{2}\\left(\\frac{x-s_i}{h(s_i)}\\right)^2} \\,dx = 1 $$"
   ]
  },
  {
   "cell_type": "markdown",
   "metadata": {},
   "source": [
    "$$ Y \\frac{1}{h(s_i)\\sqrt{2\\pi}} \\int_{a}^{b} e^{-\\frac{1}{2}\\left(\\frac{x-s_i}{h(s_i)}\\right)^2} \\,dx = 1 $$"
   ]
  },
  {
   "cell_type": "markdown",
   "metadata": {},
   "source": [
    "$$t = h(s_i)(x+s_i)$$\n",
    "$$ Y \\frac{1}{h(s_i)\\sqrt{2\\pi}} \\int_{(a-s_i)/h(s_i)}^{(b-s_i)/h(s_i)} h(s_i) e^{-\\frac{1}{2}t^2} \\,dt = 1 $$\n",
    "$$ Y \\frac{1}{\\sqrt{2\\pi}} \\int_{(a-s_i)/h(s_i)}^{(b-s_i)/h(s_i)} e^{-\\frac{1}{2}t^2} \\,dt = 1 $$\n",
    "$$ Y \\left(\\Phi\\left(\\frac{b-s_i}{h(s_i)}\\right) - \\Phi\\left(\\frac{a-s_i}{h(s_i)}\\right)\\right) = 1 $$\n",
    "$$ \\frac{Y}{2} \\left(\\mathrm{erf}\\left(\\frac{b-s_i}{\\sqrt{2}h(s_i)}\\right) - \\mathrm{erf}\\left(\\frac{a-s_i}{\\sqrt{2}h(s_i)}\\right)\\right) = 1 $$\n",
    "$$ Y = 2\\left(\\mathrm{erf}\\left(\\frac{b-s_i}{\\sqrt{2}h(s_i)}\\right) - \\mathrm{erf}\\left(\\frac{a-s_i}{\\sqrt{2}h(s_i)}\\right)\\right)^{-1} $$"
   ]
  },
  {
   "cell_type": "markdown",
   "metadata": {},
   "source": [
    "$$ Y = 2\\left(\\mathrm{erf}\\left(\\frac{1}{\\sqrt{2}x}\\right)\\right)^{-1} $$\n",
    "$$ Y' = \\frac{2}{\\sqrt{2}x^2}\\mathrm{erf}'\\left(\\frac{1}{\\sqrt{2}x}\\right)\\left(\\mathrm{erf}\\left(\\frac{1}{\\sqrt{2}x}\\right)\\right)^{-2} $$\n",
    "$$ Y' = \\frac{2}{\\sqrt{2}x^2}\\frac{2}{\\sqrt{\\pi}}e^{-{\\frac{1}{\\sqrt{2}x}}^2}\\left(\\mathrm{erf}\\left(\\frac{1}{\\sqrt{2}x}\\right)\\right)^{-2} $$\n",
    "$$ Y' = \\frac{4}{\\sqrt{2\\pi}x^2}e^{-{\\frac{1}{\\sqrt{2}x}}^2}\\left(\\mathrm{erf}\\left(\\frac{1}{\\sqrt{2}x}\\right)\\right)^{-2} $$"
   ]
  },
  {
   "cell_type": "code",
   "execution_count": null,
   "metadata": {},
   "outputs": [],
   "source": []
  }
 ],
 "metadata": {
  "kernelspec": {
   "display_name": "Python 3",
   "language": "python",
   "name": "python3"
  },
  "language_info": {
   "codemirror_mode": {
    "name": "ipython",
    "version": 3
   },
   "file_extension": ".py",
   "mimetype": "text/x-python",
   "name": "python",
   "nbconvert_exporter": "python",
   "pygments_lexer": "ipython3",
   "version": "3.7.1"
  }
 },
 "nbformat": 4,
 "nbformat_minor": 4
}
